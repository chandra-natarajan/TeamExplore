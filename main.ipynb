{
 "cells": [
  {
   "cell_type": "code",
   "execution_count": 1,
   "metadata": {},
   "outputs": [
    {
     "name": "stdout",
     "output_type": "stream",
     "text": [
      "Populating the interactive namespace from numpy and matplotlib\n"
     ]
    }
   ],
   "source": [
    "%pylab inline"
   ]
  },
  {
   "cell_type": "code",
   "execution_count": 2,
   "metadata": {},
   "outputs": [],
   "source": [
    "import numpy as np\n",
    "import random\n",
    "import wfdb as wf\n",
    "import pywt\n",
    "\n",
    "import model\n",
    "import prepare\n",
    "import dwt"
   ]
  },
  {
   "cell_type": "code",
   "execution_count": 3,
   "metadata": {},
   "outputs": [],
   "source": [
    "# already ran preprocessing step"
   ]
  },
  {
   "cell_type": "code",
   "execution_count": 6,
   "metadata": {},
   "outputs": [],
   "source": [
    "train_records, test_records = prepare.main(feature_nbeats = 25, lead_nbeats = 0, forecast_nbeats = 5)"
   ]
  },
  {
   "cell_type": "code",
   "execution_count": null,
   "metadata": {},
   "outputs": [],
   "source": [
    "train_wps, test_wps = dwt.main(train_records, test_records, wavelet_family = 'db4')"
   ]
  },
  {
   "cell_type": "code",
   "execution_count": null,
   "metadata": {},
   "outputs": [],
   "source": [
    "# using DWT\n",
    "\n",
    "y_train = []\n",
    "X_train = np.zeros((len(train_wps),len(train_wps[0].dwt)))\n",
    "for i in range(len(train)):\n",
    "    X_train[i,:] = train[i].dwt\n",
    "    y_train.append(train[i].label)\n",
    "\n",
    "y_test = []\n",
    "X_test = np.zeros((len(test_wps),len(test_wps[0].dwt)))\n",
    "for i in range(len(test)):\n",
    "    X_test[i,:] = test[i].dwt\n",
    "    y_test.append(test[i].label)"
   ]
  },
  {
   "cell_type": "code",
   "execution_count": 5,
   "metadata": {},
   "outputs": [],
   "source": [
    "# using signal itself instead\n",
    "\n",
    "y_train = []\n",
    "X_train = np.zeros((len(train),len(train[0].signal[:,0])))\n",
    "for i in range(len(train)):\n",
    "    X_train[i,:] = train[i].signal[:,0]\n",
    "for t in train:\n",
    "    y_train.append(t.label)\n",
    "y_test = []\n",
    "X_test = np.zeros((len(test),len(test[0].signal[:,0])))\n",
    "for i in range(len(test)):\n",
    "    X_test[i,:] = test[i].signal[:,0]\n",
    "for t in test:\n",
    "    y_test.append(t.label)"
   ]
  },
  {
   "cell_type": "code",
   "execution_count": 7,
   "metadata": {},
   "outputs": [
    {
     "name": "stdout",
     "output_type": "stream",
     "text": [
      "Test Accuracy: 0.550\n"
     ]
    }
   ],
   "source": [
    "from sklearn.preprocessing import StandardScaler\n",
    "from sklearn.decomposition import PCA\n",
    "from sklearn.ensemble import RandomForestClassifier\n",
    "from sklearn.neural_network import MLPClassifier\n",
    "from sklearn.pipeline import Pipeline\n",
    "\n",
    "pipe_rf = Pipeline([('scl', StandardScaler()), \n",
    "                    ('pca', PCA(n_components=200)), \n",
    "                    ('clf',  RandomForestClassifier())])\n",
    "#                    ('clf',  MLPClassifier(hidden_layer_sizes = (200,), solver = 'adam', \n",
    "#                                           random_state = 0, max_iter = 200))])\n",
    "\n",
    "pipe_rf.fit(X_train,y_train)\n",
    "\n",
    "print('Test Accuracy: %.3f' % pipe_rf.score(X_test, y_test))"
   ]
  }
 ],
 "metadata": {
  "kernelspec": {
   "display_name": "Python [conda env:3.6-anaconda-4.4]",
   "language": "python",
   "name": "conda-env-3.6-anaconda-4.4-py"
  },
  "language_info": {
   "codemirror_mode": {
    "name": "ipython",
    "version": 3
   },
   "file_extension": ".py",
   "mimetype": "text/x-python",
   "name": "python",
   "nbconvert_exporter": "python",
   "pygments_lexer": "ipython3",
   "version": "3.6.1"
  }
 },
 "nbformat": 4,
 "nbformat_minor": 2
}
