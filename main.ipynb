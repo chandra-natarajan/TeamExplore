{
 "cells": [
  {
   "cell_type": "code",
   "execution_count": 260,
   "metadata": {
    "collapsed": true
   },
   "outputs": [],
   "source": [
    "import numpy as np\n",
    "import pandas as pd\n",
    "import wfdb\n",
    "from matplotlib import pyplot as plt\n",
    "from preprocess import *\n",
    "from sampling import *\n",
    "%matplotlib inline"
   ]
  },
  {
   "cell_type": "code",
   "execution_count": 36,
   "metadata": {
    "collapsed": true
   },
   "outputs": [],
   "source": [
    "records = wfdb.get_record_list('mitdb')\n",
    "directory = 'data/'\n",
    "sample_rate = 360"
   ]
  },
  {
   "cell_type": "markdown",
   "metadata": {},
   "source": [
    "### Store signals, annotation positions and annotation symbols in dictionaries"
   ]
  },
  {
   "cell_type": "code",
   "execution_count": 92,
   "metadata": {},
   "outputs": [],
   "source": [
    "# signal data\n",
    "\n",
    "SignalData = {}\n",
    "\n",
    "for record in records:    \n",
    "    signal, field = wfdb.rdsamp(directory + record)\n",
    "    for channel in [0,1]:\n",
    "        SignalData[record + ' ' + field['sig_name'][channel]] = signal[:, channel]"
   ]
  },
  {
   "cell_type": "code",
   "execution_count": 96,
   "metadata": {},
   "outputs": [],
   "source": [
    "# annotation data\n",
    "\n",
    "AnnPos, AnnSym = {}, {}\n",
    "\n",
    "for record in records:\n",
    "    annotation = wfdb.rdann(directory + record, 'atr')\n",
    "    AnnPos[record] = annotation.sample\n",
    "    AnnSym[record] = annotation.symbol"
   ]
  },
  {
   "cell_type": "markdown",
   "metadata": {},
   "source": [
    "### Prepare segmentation positions\n",
    "Segmentation positions are the middle points between 2 neighboring beats. They serve as the starting positions of the following beats. For the first beat in a record, the starting position is set to be 0."
   ]
  },
  {
   "cell_type": "code",
   "execution_count": null,
   "metadata": {
    "collapsed": true
   },
   "outputs": [],
   "source": [
    "SegPos = segmentation(AnnPos) # Segpos is a dictionary that contains all the segmentation data."
   ]
  },
  {
   "cell_type": "markdown",
   "metadata": {},
   "source": [
    "### Remove noise from the signal"
   ]
  },
  {
   "cell_type": "code",
   "execution_count": 3,
   "metadata": {
    "collapsed": true
   },
   "outputs": [],
   "source": [
    "from preprocess import scale, denoise"
   ]
  },
  {
   "cell_type": "code",
   "execution_count": 102,
   "metadata": {},
   "outputs": [],
   "source": [
    "for key in SignalData.keys():\n",
    "    \n",
    "    SignalData[key] = scale(denoise(SignalData[key]))"
   ]
  },
  {
   "cell_type": "markdown",
   "metadata": {},
   "source": [
    "### Sample the training and testing data"
   ]
  },
  {
   "cell_type": "markdown",
   "metadata": {},
   "source": [
    "Sample the data with a rolling window.\n",
    "\n",
    "Each training dataset contains: \n",
    "    1. signals collected in a feature derivation window (FDW)\n",
    "    2. beat annotations in a forecast window (FW)\n",
    "    And there is a time gap between FDW and FW.\n",
    "The goal is to use 1 to predict 2."
   ]
  },
  {
   "cell_type": "code",
   "execution_count": 246,
   "metadata": {
    "collapsed": true
   },
   "outputs": [],
   "source": [
    "# some parameters\n",
    "split_pos = 450000 # the position used for splitting training and testing dataset.\n",
    "FDW_width, FW_width, gap_width = 10, 1, 0  # widths(in number of beats) of the feature derivation window, forecast window, and the gap in between.\n",
    "delay = 10 # distance(in number of beats) between two consequential FDWs."
   ]
  },
  {
   "cell_type": "code",
   "execution_count": 257,
   "metadata": {},
   "outputs": [],
   "source": [
    "TrainData, TrainLabel, TestData, TestLabel = build_training_testing_dataset(SignalData, SegPos, AnnSym, \n",
    "                                   split_pos, FDW_width, FW_width, gap_width, delay)"
   ]
  }
 ],
 "metadata": {
  "kernelspec": {
   "display_name": "Python [conda root]",
   "language": "python",
   "name": "conda-root-py"
  },
  "language_info": {
   "codemirror_mode": {
    "name": "ipython",
    "version": 3
   },
   "file_extension": ".py",
   "mimetype": "text/x-python",
   "name": "python",
   "nbconvert_exporter": "python",
   "pygments_lexer": "ipython3",
   "version": "3.5.3"
  }
 },
 "nbformat": 4,
 "nbformat_minor": 2
}
