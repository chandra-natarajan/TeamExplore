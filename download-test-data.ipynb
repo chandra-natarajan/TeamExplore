{
 "cells": [
  {
   "cell_type": "code",
   "execution_count": 1,
   "metadata": {},
   "outputs": [
    {
     "name": "stdout",
     "output_type": "stream",
     "text": [
      "Populating the interactive namespace from numpy and matplotlib\n"
     ]
    }
   ],
   "source": [
    "%pylab inline"
   ]
  },
  {
   "cell_type": "code",
   "execution_count": 2,
   "metadata": {},
   "outputs": [],
   "source": [
    "import numpy as np\n",
    "import matplotlib.pyplot as plt\n",
    "\n",
    "import wfdb as wf"
   ]
  },
  {
   "cell_type": "markdown",
   "metadata": {},
   "source": [
    "### Download the data"
   ]
  },
  {
   "cell_type": "code",
   "execution_count": 3,
   "metadata": {},
   "outputs": [
    {
     "data": {
      "text/plain": [
       "[['adfecgdb', 'Abdominal and Direct Fetal ECG Database'],\n",
       " ['aftdb', 'AF Termination Challenge Database'],\n",
       " ['ahadb', 'AHA Database [sample excluded record]'],\n",
       " ['aami-ec13', 'ANSI/AAMI EC13 Test Waveforms'],\n",
       " ['apnea-ecg', 'Apnea-ECG Database'],\n",
       " ['chfdb', 'BIDMC Congestive Heart Failure Database'],\n",
       " ['bidmc                   BIDMC PPG and Respiration Dataset'],\n",
       " ['bpssrat', 'Blood Pressure in Salt-Sensitive Dahl Rats'],\n",
       " ['capslpdb', 'CAP Sleep Database'],\n",
       " ['crisdb', 'CAST RR Interval Sub-Study Database'],\n",
       " ['cves', 'Cerebral Vasoregulation in Elderly with Stroke'],\n",
       " ['challenge/2009/test-set-a', 'Challenge 2009 Test Set A'],\n",
       " ['challenge/2009/test-set-b', 'Challenge 2009 Test Set B'],\n",
       " ['challenge/2010/set-a', 'Challenge 2010 Training Set A'],\n",
       " ['challenge/2010/set-b', 'Challenge 2010 Test Set B'],\n",
       " ['challenge/2010/set-c', 'Challenge 2010 Test Set C'],\n",
       " ['challenge/2011/set-a', 'Challenge 2011 Training Set A'],\n",
       " ['challenge/2011/set-b', 'Challenge 2011 Test Set B'],\n",
       " ['challenge/2011/sim', 'Challenge 2011 Pilot Set'],\n",
       " ['challenge/2013/set-a', 'Challenge 2013 Training Set A'],\n",
       " ['challenge/2013/set-b', 'Challenge 2013 Test Set B'],\n",
       " ['challenge/2014/set-p', 'Challenge 2014 Training Set'],\n",
       " ['challenge/2014/set-p2', 'Challenge 2014 Extended Training Set'],\n",
       " ['challenge/2015/training', 'Challenge 2015 Training Set'],\n",
       " ['challenge/2016/training-a', 'Challenge 2016 Training Set A'],\n",
       " ['challenge/2016/training-b', 'Challenge 2016 Training Set B'],\n",
       " ['challenge/2016/training-c', 'Challenge 2016 Training Set C'],\n",
       " ['challenge/2016/training-d', 'Challenge 2016 Training Set D'],\n",
       " ['challenge/2016/training-e', 'Challenge 2016 Training Set E'],\n",
       " ['challenge/2016/training-f', 'Challenge 2016 Training Set F'],\n",
       " ['challenge/2017/training', 'Challenge 2017 Training Set'],\n",
       " ['challenge/2018/training', 'Challenge 2018 Training Set'],\n",
       " ['challenge/2018/test', 'Challenge 2018 Test Set'],\n",
       " ['charisdb', 'CHARIS database'],\n",
       " ['chbmit', 'CHB-MIT Scalp EEG Database'],\n",
       " ['cebsdb', 'Combined measurement of ECG, Breathing and Seismocardiograms'],\n",
       " ['chf2db', 'Congestive Heart Failure RR Interval Database'],\n",
       " ['ctu-uhb-ctgdb', 'CTU-CHB Intrapartum Cardiotocography Database'],\n",
       " ['cudb', 'CU Ventricular Tachyarrhythmia Database'],\n",
       " ['ecgdmmld',\n",
       "  'ECG Effects of Dofetilide, Moxifloxacin, Dofetilide+Mexiletine, Dofetilide+Lidocaine and Moxifloxacin+Diltiazem'],\n",
       " ['ecgrdvq',\n",
       "  'ECG Effects of Ranolazine, Dofetilide, Verapamil, and Quinidine'],\n",
       " ['ecgiddb', 'ECG-ID Database'],\n",
       " ['eegmmidb', 'EEG Motor Movement/Imagery Dataset'],\n",
       " ['ltrsvp', 'EEG Signals from an RSVP Task'],\n",
       " ['erpbci', 'ERP-based Brain-Computer Interface recordings'],\n",
       " ['edb', 'European ST-T Database'],\n",
       " ['earh', 'Evoked Auditory Responses in Heading Impaired'],\n",
       " ['earndb', 'Evoked Auditory Responses in Normals'],\n",
       " ['emgdb', 'Examples of Electromyograms'],\n",
       " ['fantasia', 'Fantasia Database'],\n",
       " ['fecgsyndb', 'Fetal ECG Synthetic Database'],\n",
       " ['fpcgdb', 'Fetal PCG Database'],\n",
       " ['gait-maturation-db/data', 'Gait Maturation Database'],\n",
       " ['gaitdb', 'Gait in Aging and Disease Database'],\n",
       " ['gaitndd', 'Gait in Neurodegenerative Disease Database'],\n",
       " ['meditation/data', 'Heart Rate Oscillations during Meditation'],\n",
       " ['hbedb', 'Human Balance Evaluation Database'],\n",
       " ['ehgdb', 'Icelandic 16-electrode Electrohysterogram Database'],\n",
       " ['iafdb', 'Intracardiac Atrial Fibrillation Database'],\n",
       " ['ltafdb', 'Long Term AF Database'],\n",
       " ['ltstdb', 'Long Term ST Database'],\n",
       " ['mssvepdb', 'MAMEM SSVEP Database'],\n",
       " ['mghdb', 'MGH/MF Waveform Database'],\n",
       " ['mimic2cdb', 'MIMIC II Clinical Database Public Subset'],\n",
       " ['mimic2wdb/30', 'MIMIC II/III Waveform Database, part 0'],\n",
       " ['mimic2wdb/31', 'MIMIC II/III Waveform Database, part 1'],\n",
       " ['mimic2wdb/32', 'MIMIC II/III Waveform Database, part 2'],\n",
       " ['mimic2wdb/33', 'MIMIC II/III Waveform Database, part 3'],\n",
       " ['mimic2wdb/34', 'MIMIC II/III Waveform Database, part 4'],\n",
       " ['mimic2wdb/35', 'MIMIC II/III Waveform Database, part 5'],\n",
       " ['mimic2wdb/36', 'MIMIC II/III Waveform Database, part 6'],\n",
       " ['mimic2wdb/37', 'MIMIC II/III Waveform Database, part 7'],\n",
       " ['mimic2wdb/38', 'MIMIC II/III Waveform Database, part 8'],\n",
       " ['mimic2wdb/39', 'MIMIC II/III Waveform Database, part 9'],\n",
       " ['mimic2wdb/matched', 'MIMIC II Waveform Database Matched Subset'],\n",
       " ['mimic3wdb/matched', 'MIMIC III Waveform Database Matched Subset'],\n",
       " ['mimicdb', 'MIMIC Database'],\n",
       " ['mimicdb/numerics', 'MIMIC Database Numerics'],\n",
       " ['mitdb', 'MIT-BIH Arrhythmia Database'],\n",
       " ['pwave', 'MIT-BIH Arrhythmia Database P-Wave Annotations'],\n",
       " ['afdb', 'MIT-BIH Atrial Fibrillation Database'],\n",
       " ['cdb', 'MIT-BIH ECG Compression Test Database'],\n",
       " ['ltdb', 'MIT-BIH Long-Term ECG Database'],\n",
       " ['vfdb', 'MIT-BIH Malignant Ventricular Ectopy Database'],\n",
       " ['nstdb', 'MIT-BIH Noise Stress Test Database'],\n",
       " ['nsrdb', 'MIT-BIH Normal Sinus Rhythm Database'],\n",
       " ['excluded', '... [Recordings excluded from the NSR DB]'],\n",
       " ['slpdb', 'MIT-BIH Polysomnographic Database'],\n",
       " ['stdb', 'MIT-BIH ST Change Database'],\n",
       " ['svdb', 'MIT-BIH Supraventricular Arrhythmia Database'],\n",
       " ['mmgdb', 'MMG Database'],\n",
       " ['macecgdb', 'Motion Artifact Contaminated ECG Database'],\n",
       " ['motion-artifact', 'Motion Artifact Contaminated fNIRS and EEG Data'],\n",
       " ['noneeg', 'Non-EEG Dataset for Assessment of Neurological Status'],\n",
       " ['nifecgdb', 'Non-Invasive Fetal ECG Database'],\n",
       " ['nsr2db', 'Normal Sinus Rhythm RR Interval Database'],\n",
       " ['ob1db', 'OB-1 Fetal ECG Database [sample record]'],\n",
       " ['afpdb', 'PAF Prediction Challenge Database'],\n",
       " ['osv', 'Pattern Analysis of Oxygen Saturation Variability'],\n",
       " ['prcp', 'Physiologic Response to Changes in Posture'],\n",
       " ['szdb', 'Post-Ictal Heart Rate Oscillations in Partial Epilepsy'],\n",
       " ['picsdb', 'Preterm Infant Cardio-Respiratory Signals Database'],\n",
       " ['ptbdb', 'PTB Diagnostic ECG Database'],\n",
       " ['qtdb', 'QT Database'],\n",
       " ['sufhsdb', 'Shiraz University Fetal Heart Sounds Database'],\n",
       " ['simfpcgdb', 'Simulated Fetal Phonocardiograms'],\n",
       " ['shhpsgdb', 'Sleep Heart Health Study PSG Database [sample record]'],\n",
       " ['sleepbrl', 'Sleep Bioradiolocation Database'],\n",
       " ['sleep-edfx', 'Sleep-EDF Database [Expanded]'],\n",
       " ['shareedb',\n",
       "  'Smart Health for Assessing the Risk of Events via ECG Database'],\n",
       " ['mvtdb/data', 'Spontaneous Ventricular Tachyarrhythmia Database'],\n",
       " ['sgamp', 'Squid Giant Axon Membrane Potential'],\n",
       " ['incartdb', 'St Petersburg INCART 12-lead Arrhythmia Database'],\n",
       " ['staffiii', 'STAFF III Database'],\n",
       " ['drivedb', 'Stress Recognition in Automobile Drivers'],\n",
       " ['sddb', 'Sudden Cardiac Death Holter Database'],\n",
       " ['twadb', 'T-Wave Alternans Challenge Database'],\n",
       " ['taichidb', 'Tai Chi, Physiological Complexity, and Healthy Aging - Gait'],\n",
       " ['tpehgdb', 'Term-Preterm EHG Database'],\n",
       " ['ucddb', 'UCD Sleep Apnea Database'],\n",
       " ['unicaprop', 'UniCA ElectroTastegram Database (PROP)'],\n",
       " ['videopulse', 'Video Pulse Signals in Stationary and Motion Conditions'],\n",
       " ['wrist', 'Wrist PPG During Exercise'],\n",
       " ['mimic2db', 'MIMIC II Waveform DB, v2 [deprecated, use v3]'],\n",
       " ['mimic2db/numerics',\n",
       "  'MIMIC II Waveform DB, v2 Numerics [deprecated, use v3]'],\n",
       " ['sleep-edf', 'Sleep-EDF Database, v1 [deprecated, use sleep-edfx]'],\n",
       " ['voiced', 'VOice ICar fEDerico II Database']]"
      ]
     },
     "execution_count": 3,
     "metadata": {},
     "output_type": "execute_result"
    }
   ],
   "source": [
    "# List available databases\n",
    "wf.get_dbs()"
   ]
  },
  {
   "cell_type": "code",
   "execution_count": 103,
   "metadata": {},
   "outputs": [],
   "source": [
    "import os\n",
    "wf.dl_database('mitdb', os.path.join(os.getcwd(), 'mitdb'))"
   ]
  },
  {
   "cell_type": "markdown",
   "metadata": {},
   "source": [
    "### Explore meta"
   ]
  },
  {
   "cell_type": "code",
   "execution_count": 4,
   "metadata": {},
   "outputs": [
    {
     "name": "stdout",
     "output_type": "stream",
     "text": [
      "There are 48 records in the MIT-BIH Arrhythmia Database.\n"
     ]
    }
   ],
   "source": [
    "records = wf.get_record_list('mitdb')\n",
    "#print(records)\n",
    "print('There are', len(records), 'records in the MIT-BIH Arrhythmia Database.')"
   ]
  },
  {
   "cell_type": "code",
   "execution_count": 5,
   "metadata": {},
   "outputs": [
    {
     "name": "stdout",
     "output_type": "stream",
     "text": [
      "     extension                        description  human_reviewed\n",
      "atr        atr          Reference ECG annotations            True\n",
      "blh        blh         Human reviewed beat labels            True\n",
      "blm        blm                Machine beat labels           False\n",
      "alh        alh              Human reviewed alarms            True\n",
      "alm        alm                     Machine alarms           False\n",
      "qrsc      qrsc      Human reviewed qrs detections            True\n",
      "qrs        qrs             Machine QRS detections           False\n",
      "bph        bph  Human reviewed BP beat detections            True\n",
      "bpm        bpm         Machine BP beat detections           False\n"
     ]
    }
   ],
   "source": [
    "wf.show_ann_classes()"
   ]
  },
  {
   "cell_type": "markdown",
   "metadata": {},
   "source": [
    "Let's dig into the first record."
   ]
  },
  {
   "cell_type": "code",
   "execution_count": 6,
   "metadata": {},
   "outputs": [],
   "source": [
    "record = records[0]\n",
    "signals, fields = wf.rdsamp('mitdb/' + record)\n",
    "annotations = wf.rdann('mitdb/' + record, 'atr',    # only .atr comes with this database\n",
    "                       return_label_elements = ['symbol', 'description'], summarize_labels = True)  "
   ]
  },
  {
   "cell_type": "code",
   "execution_count": 7,
   "metadata": {},
   "outputs": [
    {
     "name": "stdout",
     "output_type": "stream",
     "text": [
      "There are 2 ECG channels\n",
      "The names of the channels are ['MLII', 'V5']\n",
      "The units of the channels are ['mV', 'mV']\n",
      "The length of each signal is 650000 samples\n",
      "The sampling frequency of the signal is 360 Hz\n",
      "Comments written in the header: ['69 M 1085 1629 x1', 'Aldomet, Inderal']\n"
     ]
    }
   ],
   "source": [
    "#print(signals.shape)\n",
    "#print(signals.min(),signals.max())\n",
    "#print(fields.keys())\n",
    "\n",
    "print('There are', fields['n_sig'], 'ECG channels')\n",
    "print('The names of the channels are', fields['sig_name'])\n",
    "print('The units of the channels are', fields['units'])\n",
    "print('The length of each signal is', fields['sig_len'], 'samples')\n",
    "print('The sampling frequency of the signal is', fields['fs'], 'Hz')\n",
    "print('Comments written in the header:', fields['comments'])"
   ]
  },
  {
   "cell_type": "markdown",
   "metadata": {},
   "source": [
    "(The channels MLII and V5 are two different electrode configurations and are considered the best two for getting a good signal.\n",
    "\n",
    "Source: https://www.physionet.org/faq.shtml#signal-names)"
   ]
  },
  {
   "cell_type": "markdown",
   "metadata": {},
   "source": [
    "### Explore annotations more\n",
    "#### See https://www.physionet.org/physiobank/annotations.shtml"
   ]
  },
  {
   "cell_type": "code",
   "execution_count": 8,
   "metadata": {},
   "outputs": [
    {
     "name": "stdout",
     "output_type": "stream",
     "text": [
      "    label_store symbol                                    description\n",
      "0             0                              Not an actual annotation\n",
      "1             1      N                                    Normal beat\n",
      "2             2      L                  Left bundle branch block beat\n",
      "3             3      R                 Right bundle branch block beat\n",
      "4             4      a                Aberrated atrial premature beat\n",
      "5             5      V              Premature ventricular contraction\n",
      "6             6      F          Fusion of ventricular and normal beat\n",
      "7             7      J              Nodal (junctional) premature beat\n",
      "8             8      A                   Atrial premature contraction\n",
      "9             9      S     Premature or ectopic supraventricular beat\n",
      "10           10      E                        Ventricular escape beat\n",
      "11           11      j                 Nodal (junctional) escape beat\n",
      "12           12      /                                     Paced beat\n",
      "13           13      Q                            Unclassifiable beat\n",
      "14           14      ~                          Signal quality change\n",
      "16           16      |                     Isolated QRS-like artifact\n",
      "18           18      s                                      ST change\n",
      "19           19      T                                  T-wave change\n",
      "20           20      *                                        Systole\n",
      "21           21      D                                       Diastole\n",
      "22           22      \"                             Comment annotation\n",
      "23           23      =                         Measurement annotation\n",
      "24           24      p                                    P-wave peak\n",
      "25           25      B              Left or right bundle branch block\n",
      "26           26      ^                      Non-conducted pacer spike\n",
      "27           27      t                                    T-wave peak\n",
      "28           28      +                                  Rhythm change\n",
      "29           29      u                                    U-wave peak\n",
      "30           30      ?                                       Learning\n",
      "31           31      !                       Ventricular flutter wave\n",
      "32           32      [      Start of ventricular flutter/fibrillation\n",
      "33           33      ]        End of ventricular flutter/fibrillation\n",
      "34           34      e                             Atrial escape beat\n",
      "35           35      n                   Supraventricular escape beat\n",
      "36           36      @  Link to external data (aux_note contains URL)\n",
      "37           37      x             Non-conducted P-wave (blocked APB)\n",
      "38           38      f                Fusion of paced and normal beat\n",
      "39           39      (                                 Waveform onset\n",
      "40           40      )                                   Waveform end\n",
      "41           41      r       R-on-T premature ventricular contraction\n"
     ]
    }
   ],
   "source": [
    "#help(wf.Annotation)\n",
    "wf.show_ann_labels()"
   ]
  },
  {
   "cell_type": "code",
   "execution_count": 9,
   "metadata": {},
   "outputs": [
    {
     "data": {
      "text/html": [
       "<div>\n",
       "<style scoped>\n",
       "    .dataframe tbody tr th:only-of-type {\n",
       "        vertical-align: middle;\n",
       "    }\n",
       "\n",
       "    .dataframe tbody tr th {\n",
       "        vertical-align: top;\n",
       "    }\n",
       "\n",
       "    .dataframe thead th {\n",
       "        text-align: right;\n",
       "    }\n",
       "</style>\n",
       "<table border=\"1\" class=\"dataframe\">\n",
       "  <thead>\n",
       "    <tr style=\"text-align: right;\">\n",
       "      <th></th>\n",
       "      <th>label_store</th>\n",
       "      <th>symbol</th>\n",
       "      <th>description</th>\n",
       "    </tr>\n",
       "  </thead>\n",
       "  <tbody>\n",
       "    <tr>\n",
       "      <th>8</th>\n",
       "      <td>8</td>\n",
       "      <td>A</td>\n",
       "      <td>Atrial premature contraction</td>\n",
       "    </tr>\n",
       "    <tr>\n",
       "      <th>1</th>\n",
       "      <td>1</td>\n",
       "      <td>N</td>\n",
       "      <td>Normal beat</td>\n",
       "    </tr>\n",
       "    <tr>\n",
       "      <th>28</th>\n",
       "      <td>28</td>\n",
       "      <td>+</td>\n",
       "      <td>Rhythm change</td>\n",
       "    </tr>\n",
       "    <tr>\n",
       "      <th>5</th>\n",
       "      <td>5</td>\n",
       "      <td>V</td>\n",
       "      <td>Premature ventricular contraction</td>\n",
       "    </tr>\n",
       "  </tbody>\n",
       "</table>\n",
       "</div>"
      ],
      "text/plain": [
       "    label_store symbol                        description\n",
       "8             8      A       Atrial premature contraction\n",
       "1             1      N                        Normal beat\n",
       "28           28      +                      Rhythm change\n",
       "5             5      V  Premature ventricular contraction"
      ]
     },
     "execution_count": 9,
     "metadata": {},
     "output_type": "execute_result"
    }
   ],
   "source": [
    "annotations.contained_labels"
   ]
  },
  {
   "cell_type": "code",
   "execution_count": 10,
   "metadata": {},
   "outputs": [
    {
     "name": "stdout",
     "output_type": "stream",
     "text": [
      "99.95602462620933 % of annotations for record 100 are beat annotations\n"
     ]
    }
   ],
   "source": [
    "beats = np.in1d(annotations.symbol, \n",
    "                ['N', 'L', 'R', 'B', 'A', 'a', 'J', 'S', 'V', 'r', 'F', 'e', 'j', 'n', 'E', '/', 'f', 'Q', '?'])\n",
    "print(beats.sum() / len(annotations.symbol) * 100. , '% of annotations for record' , record , 'are beat annotations')"
   ]
  },
  {
   "cell_type": "markdown",
   "metadata": {},
   "source": [
    "### Try some basic plotting"
   ]
  },
  {
   "cell_type": "code",
   "execution_count": 11,
   "metadata": {},
   "outputs": [],
   "source": [
    "rcParams['mathtext.default']='regular'\n",
    "plt.rc('font', family='monospace', )\n",
    "plt.rc('xtick', labelsize=14) \n",
    "plt.rc('ytick', labelsize=14) "
   ]
  },
  {
   "cell_type": "code",
   "execution_count": 12,
   "metadata": {},
   "outputs": [
    {
     "data": {
      "image/png": "[encoded data removed]",
      "text/plain": [
       "<matplotlib.figure.Figure at 0x7fa77de72da0>"
      ]
     },
     "metadata": {},
     "output_type": "display_data"
    }
   ],
   "source": [
    "nsamples = np.arange(1000)\n",
    "#nsamples = np.arange(fields['sig_len'])\n",
    "\n",
    "fig = plt.figure(figsize=(12,4))\n",
    "\n",
    "ax1 = plt.subplot(121)\n",
    "plt.plot(nsamples / fields['fs'], signals[nsamples,0])\n",
    "plt.xlabel('Time (s)', fontsize=14)\n",
    "plt.ylabel('Voltage (mV)', fontsize=14)\n",
    "plt.title('Channel 1 [' + fields['sig_name'][0] + ']', fontsize=14)\n",
    "\n",
    "ax2 = plt.subplot(122, sharex=ax1, sharey=ax1)\n",
    "plt.plot(nsamples / fields['fs'], signals[nsamples,1])\n",
    "plt.title('Channel 2 [' + fields['sig_name'][1] + ']', fontsize=14)\n",
    "#plt.setp(ax2.get_yticklabels(), visible=False)\n",
    "\n",
    "plt.suptitle('Record #' + record, fontsize=16)\n",
    "plt.tight_layout()\n",
    "plt.subplots_adjust(top=0.85)\n",
    "plt.show()"
   ]
  },
  {
   "cell_type": "markdown",
   "metadata": {},
   "source": [
    "### Let's get a bit fancier and try zooming in on an exciting annotation"
   ]
  },
  {
   "cell_type": "code",
   "execution_count": 13,
   "metadata": {},
   "outputs": [],
   "source": [
    "# Let's select the first 'A' ('atrial premature contraction') annotation and zoom in\n",
    "ann_ind = np.in1d(annotations.symbol, ['A'])\n",
    "samp_ind = annotations.sample[ann_ind]\n",
    "chan = annotations.chan[ann_ind][0]\n",
    "annx, anny = samp_ind[0] / fields['fs'], signals[samp_ind[0],chan]\n",
    "anntext = np.array(annotations.description)[ann_ind][0]"
   ]
  },
  {
   "cell_type": "code",
   "execution_count": 15,
   "metadata": {},
   "outputs": [
    {
     "data": {
      "image/png": "[encoded data removed]",
      "text/plain": [
       "<matplotlib.figure.Figure at 0x7fa77b181358>"
      ]
     },
     "metadata": {},
     "output_type": "display_data"
    }
   ],
   "source": [
    "nsamples = np.arange(samp_ind[0] - 500, samp_ind[0] + 500)\n",
    "\n",
    "fig = plt.figure(figsize=(12,4))\n",
    "\n",
    "ax1 = plt.subplot(121)\n",
    "plt.plot(nsamples / fields['fs'], signals[nsamples,0])\n",
    "plt.xlabel('Time (s)', fontsize=14)\n",
    "plt.ylabel('Voltage (mV)', fontsize=14)\n",
    "plt.title('Channel 1 [' + fields['sig_name'][0] + ']', fontsize=14)\n",
    "\n",
    "ax2 = plt.subplot(122, sharex=ax1, sharey=ax1)\n",
    "plt.plot(nsamples / fields['fs'], signals[nsamples,1])\n",
    "plt.title('Channel 2 [' + fields['sig_name'][1] + ']', fontsize=14)\n",
    "#plt.setp(ax2.get_yticklabels(), visible=False)\n",
    "\n",
    "if chan == 0:\n",
    "    ax1.annotate(anntext, xy=(annx, anny), xytext=(annx + 0.2, anny), fontsize=8, color='red',\n",
    "                arrowprops=dict(color='red', arrowstyle=\"->\"))\n",
    "else:\n",
    "    ax2.annotate(anntext, xy=(annx, anny), xytext=(annx + 0.2, anny), fontsize=8, color='red',\n",
    "                arrowprops=dict(color='red', arrowstyle=\"->\"))\n",
    "\n",
    "plt.suptitle('Record #' + record, fontsize=16)\n",
    "plt.tight_layout()\n",
    "plt.subplots_adjust(top=0.85)\n",
    "plt.show()"
   ]
  },
  {
   "cell_type": "code",
   "execution_count": null,
   "metadata": {},
   "outputs": [],
   "source": []
  }
 ],
 "metadata": {
  "kernelspec": {
   "display_name": "Python 3",
   "language": "python",
   "name": "python3"
  },
  "language_info": {
   "codemirror_mode": {
    "name": "ipython",
    "version": 3
   },
   "file_extension": ".py",
   "mimetype": "text/x-python",
   "name": "python",
   "nbconvert_exporter": "python",
   "pygments_lexer": "ipython3",
   "version": "3.6.4"
  }
 },
 "nbformat": 4,
 "nbformat_minor": 2
}
