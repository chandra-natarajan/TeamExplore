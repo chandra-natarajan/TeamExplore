{
 "cells": [
  {
   "cell_type": "markdown",
   "metadata": {},
   "source": [
    "Imports, opening datafiles and reading them using wfdb.rdrecord and rdann. Plot them using wfdb.plot_wfdb and append the first channel data to pchannel."
   ]
  },
  {
   "cell_type": "code",
   "execution_count": 175,
   "metadata": {},
   "outputs": [],
   "source": [
    "import os\n",
    "import glob\n",
    "import re\n",
    "import wfdb as wf\n",
    "import numpy as np\n",
    "from matplotlib import pyplot as plt\n",
    "from scipy.signal import butter, lfilter\n",
    "\n",
    "samplenumber=3000    #sample size for analysis\n",
    "\n",
    "filenames = glob.glob('DataFiles/*.dat') #reading files from DataFiles folder\n",
    "pchannel=[] #initiating arrays\n",
    "file_nums=[]\n",
    "pfreq=[]\n",
    "recordall=[]\n",
    "annall=[]\n",
    "\n",
    "for i, s in enumerate(filenames):                 \n",
    "    num_str = re.search(\"(\\d+).dat\",  filenames[i]) \n",
    "    file_nums.append(num_str.group(1)) #extracting the numbering system of the data files, saving them to an array for calling them in the future \n",
    "    \n",
    "for j, k in enumerate(file_nums):\n",
    "    record = wf.rdrecord('Datafiles/'+file_nums[j], sampto=samplenumber)\n",
    "    pchannel.append(record.p_signal[:,0])\n",
    "    ann = wf.rdann('DataFiles/'+file_nums[j], 'atr', sampto=samplenumber) #reading the data and annotation files, putting them into arrays up to the 3000th sample -arbitrary\n",
    "    #wf.plot_wfdb(record=record, annotation = ann, title='Record '+file_nums[j]+' from MITBIH', plot_sym=True, time_units='seconds', figsize=(30,10)) #plotting all of the files"
   ]
  },
  {
   "cell_type": "markdown",
   "metadata": {},
   "source": [
    "First step in detecting QRS complex peaks using the Pan-Tomkins algorithm. It involves a 1)bandpass filter, a 2)differentiation, a 3)squaring function, and finally a 4)moving window integration."
   ]
  },
  {
   "cell_type": "code",
   "execution_count": 200,
   "metadata": {
    "scrolled": false
   },
   "outputs": [
    {
     "data": {
      "text/plain": [
       "[<matplotlib.lines.Line2D at 0x1faad22e550>]"
      ]
     },
     "execution_count": 200,
     "metadata": {},
     "output_type": "execute_result"
    },
    {
     "data": {
      "image/png": "[encoded data removed]",
      "text/plain": [
       "<Figure size 432x288 with 1 Axes>"
      ]
     },
     "metadata": {},
     "output_type": "display_data"
    }
   ],
   "source": [
    "datanumb=1    #which data set to look at\n",
    "lowcut=5      #low frequency cutoff for bandpass filter\n",
    "highcut=50    #high frequency cutoff for bandpass filter\n",
    "window=15     #window size for moving window integration\n",
    "\n",
    "ffin=[]\n",
    "\n",
    "nyquist_freq = 0.5 * record.fs #calculating the nyquist frequency using the sampling frequency\n",
    "low = lowcut / nyquist_freq #lowpass filtering cutoff\n",
    "high = highcut / nyquist_freq #highpass filtering cutoff\n",
    "b, a = butter(1, [low, high], btype=\"band\")\n",
    "x = lfilter(b, a, pchannel[datanumb]) #bandpass filtering\n",
    "y = np.ediff1d(x) #deriving the data\n",
    "z = [i**2 for i in y] #squaring the data\n",
    "fin = np.convolve(z, np.ones(window)) #convolving the data- moving window integration\n",
    "#ffin.append(fin)\n",
    "\n",
    "#plt.plot(x)\n",
    "#plt.plot(pchannel[0])\n",
    "#plt.plot(y)\n",
    "#plt.plot(z)\n",
    "plt.plot(fin)\n",
    "plt.plot(pchannel[datanumb])"
   ]
  },
  {
   "cell_type": "markdown",
   "metadata": {},
   "source": [
    "Detecting peaks part 2"
   ]
  },
  {
   "cell_type": "code",
   "execution_count": 199,
   "metadata": {},
   "outputs": [],
   "source": [
    "spacing = 50    #min spacing between peaks\n",
    "limit = 0.1     #amplitude detection limit\n",
    "\n",
    "siz = fin.size\n",
    "x = np.zeros(siz + 2 * spacing)\n",
    "x[:spacing] = fin[0] - 1.e-6\n",
    "x[-spacing:] = fin[-1] - 1.e-6\n",
    "x[spacing:spacing + siz] = fin\n",
    "peak_candidate = np.zeros(siz)\n",
    "peak_candidate[:] = True\n",
    "for s in range(spacing):\n",
    "    start = spacing - s - 1\n",
    "    h_b = x[start: start + siz]  # before\n",
    "    start = spacing\n",
    "    h_c = x[start: start + siz]  # central\n",
    "    start = spacing + s + 1\n",
    "    h_a = x[start: start + siz ]  # after\n",
    "    peak_candidate = np.logical_and(peak_candidate, np.logical_and(h_c > h_b, h_c > h_a))\n",
    "ind = np.argwhere(peak_candidate)\n",
    "ind = ind.reshape(ind.size)\n",
    "ind = ind[fin[ind] > limit]\n"
   ]
  },
  {
   "cell_type": "markdown",
   "metadata": {},
   "source": [
    "Extracting features based on peak location. Relevant features: "
   ]
  },
  {
   "cell_type": "code",
   "execution_count": 198,
   "metadata": {},
   "outputs": [
    {
     "data": {
      "text/plain": [
       "array([0.01882309, 0.01882309, 0.01882309, ..., 0.00046633, 0.00046633,\n",
       "       0.00046633])"
      ]
     },
     "execution_count": 198,
     "metadata": {},
     "output_type": "execute_result"
    }
   ],
   "source": []
  },
  {
   "cell_type": "code",
   "execution_count": null,
   "metadata": {},
   "outputs": [],
   "source": []
  }
 ],
 "metadata": {
  "kernelspec": {
   "display_name": "Python 3",
   "language": "python",
   "name": "python3"
  },
  "language_info": {
   "codemirror_mode": {
    "name": "ipython",
    "version": 3
   },
   "file_extension": ".py",
   "mimetype": "text/x-python",
   "name": "python",
   "nbconvert_exporter": "python",
   "pygments_lexer": "ipython3",
   "version": "3.6.5"
  }
 },
 "nbformat": 4,
 "nbformat_minor": 2
}
